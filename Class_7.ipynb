{
  "nbformat": 4,
  "nbformat_minor": 0,
  "metadata": {
    "colab": {
      "provenance": [],
      "authorship_tag": "ABX9TyMWoiO5C1frZgD99e7xafPo",
      "include_colab_link": true
    },
    "kernelspec": {
      "name": "python3",
      "display_name": "Python 3"
    },
    "language_info": {
      "name": "python"
    }
  },
  "cells": [
    {
      "cell_type": "markdown",
      "metadata": {
        "id": "view-in-github",
        "colab_type": "text"
      },
      "source": [
        "<a href=\"https://colab.research.google.com/github/istiakmahmudnewaz/Pythonprogramming_GUB_EDGE_PROJECT/blob/main/Class_7.ipynb\" target=\"_parent\"><img src=\"https://colab.research.google.com/assets/colab-badge.svg\" alt=\"Open In Colab\"/></a>"
      ]
    },
    {
      "cell_type": "code",
      "execution_count": null,
      "metadata": {
        "colab": {
          "base_uri": "https://localhost:8080/"
        },
        "id": "JoNV5TOPMuzV",
        "outputId": "68dea486-297d-400a-df91-8cf8bfdae13d"
      },
      "outputs": [
        {
          "output_type": "stream",
          "name": "stdout",
          "text": [
            "['Python', 'C++', 'JavaScript', 'C', 'Java', 'HTML']\n"
          ]
        }
      ],
      "source": [
        "language = ['Python','C++','JavaScript','C','Java','HTML']\n",
        "language[3]\n",
        "language [-1]\n",
        "print(language)"
      ]
    },
    {
      "cell_type": "code",
      "source": [
        "colors = [\"Red\", \"Green\", \"Blue\", \"Yellow\", \"Green\"]\n",
        "print(colors[2])\n",
        "print(colors[4])\n",
        "print(colors[0])"
      ],
      "metadata": {
        "colab": {
          "base_uri": "https://localhost:8080/"
        },
        "id": "uD9_rKBwP0id",
        "outputId": "ec3e96fc-2509-4cb0-f08f-461124e73d7b"
      },
      "execution_count": null,
      "outputs": [
        {
          "output_type": "stream",
          "name": "stdout",
          "text": [
            "Blue\n",
            "Green\n",
            "Red\n"
          ]
        }
      ]
    },
    {
      "cell_type": "code",
      "source": [
        "colors = [\"Red\", \"Green\", \"Blue\", \"Yellow\", \"Green\"]\n",
        "print(colors[-1])\n",
        "print(colors[-3])\n",
        "print(colors[-5])"
      ],
      "metadata": {
        "colab": {
          "base_uri": "https://localhost:8080/"
        },
        "id": "SQ0DW1tsQfoz",
        "outputId": "58e8a64a-92a1-45f7-ac2d-3427a611c65f"
      },
      "execution_count": null,
      "outputs": [
        {
          "output_type": "stream",
          "name": "stdout",
          "text": [
            "Green\n",
            "Blue\n",
            "Red\n"
          ]
        }
      ]
    },
    {
      "cell_type": "code",
      "source": [
        "students = []\n",
        "for i in range(5):\n",
        "   name = input(f\"Enter the name of student {i+1}: \" )\n",
        "   students.append(name)\n",
        "for name in students:\n",
        "  print(name.upper())"
      ],
      "metadata": {
        "colab": {
          "base_uri": "https://localhost:8080/"
        },
        "id": "qvfXaTwZQor5",
        "outputId": "2b5d2e77-6f0f-4501-fd0c-6c847b1fae66"
      },
      "execution_count": null,
      "outputs": [
        {
          "output_type": "stream",
          "name": "stdout",
          "text": [
            "Enter the name of student 1: Istiak\n",
            "Enter the name of student 2: Mahmud\n",
            "Enter the name of student 3: Newaz\n",
            "Enter the name of student 4: Ruhin\n",
            "Enter the name of student 5: Baki\n",
            "ISTIAK\n",
            "MAHMUD\n",
            "NEWAZ\n",
            "RUHIN\n",
            "BAKI\n"
          ]
        }
      ]
    },
    {
      "cell_type": "code",
      "source": [
        "colors = [\"Red\",\"Green\",\"Blue\",\"Pink\", \"Yellow\"]\n",
        "newColor = []\n",
        "for i in colors:\n",
        "    if \"e\" in i:\n",
        "      newColor.append(i)\n",
        "    print(newColor)"
      ],
      "metadata": {
        "colab": {
          "base_uri": "https://localhost:8080/"
        },
        "id": "zuluN-trfFRR",
        "outputId": "098169d9-ec7c-4592-e6cc-b8d2874f61a4"
      },
      "execution_count": null,
      "outputs": [
        {
          "output_type": "stream",
          "name": "stdout",
          "text": [
            "['Red']\n",
            "['Red', 'Green']\n",
            "['Red', 'Green', 'Blue']\n",
            "['Red', 'Green', 'Blue']\n",
            "['Red', 'Green', 'Blue', 'Yellow']\n"
          ]
        }
      ]
    },
    {
      "cell_type": "code",
      "source": [],
      "metadata": {
        "id": "VDWnt2MRi3iZ"
      },
      "execution_count": null,
      "outputs": []
    },
    {
      "cell_type": "code",
      "source": [
        "ist = [4, 3, 2, 1, 3, 4, 5]\n",
        "ist.sort()\n",
        "print(ist)\n"
      ],
      "metadata": {
        "colab": {
          "base_uri": "https://localhost:8080/"
        },
        "id": "ubfIN9NdkU8a",
        "outputId": "8a1d79de-46fb-4c7e-98d7-3fef68b993c2"
      },
      "execution_count": null,
      "outputs": [
        {
          "output_type": "stream",
          "name": "stdout",
          "text": [
            "[1, 2, 3, 3, 4, 4, 5]\n"
          ]
        }
      ]
    },
    {
      "cell_type": "code",
      "source": [
        "ist = [4, 3, 2, 1, 3, 4, 5]\n",
        "ist.sort(reverse=True)\n",
        "print(ist)\n"
      ],
      "metadata": {
        "colab": {
          "base_uri": "https://localhost:8080/"
        },
        "id": "JZG4qavjlTag",
        "outputId": "3c2a3520-18b3-4190-f9be-69a18452bd9b"
      },
      "execution_count": null,
      "outputs": [
        {
          "output_type": "stream",
          "name": "stdout",
          "text": [
            "[5, 4, 4, 3, 3, 2, 1]\n"
          ]
        }
      ]
    },
    {
      "cell_type": "code",
      "source": [
        "my_list = [10, 20, 30, 40, 50]\n",
        "\n",
        "popped_element = my_list.pop()\n",
        "\n",
        "print(\"Popped element:\", popped_element)\n",
        "print(\"Updated list:\", my_list)\n"
      ],
      "metadata": {
        "colab": {
          "base_uri": "https://localhost:8080/"
        },
        "id": "oXUrOLZxnAQv",
        "outputId": "36ec52f9-ac0a-4cee-e2bc-b9216045e822"
      },
      "execution_count": null,
      "outputs": [
        {
          "output_type": "stream",
          "name": "stdout",
          "text": [
            "Popped element: 50\n",
            "Updated list: [10, 20, 30, 40]\n"
          ]
        }
      ]
    },
    {
      "cell_type": "code",
      "source": [
        "my_list = [10, 20, 30, 40, 50]\n",
        "\n",
        "popped_element = my_list.pop(2)\n",
        "\n",
        "print(\"Popped element:\", popped_element)\n",
        "print(\"Updated list:\", my_list)\n"
      ],
      "metadata": {
        "colab": {
          "base_uri": "https://localhost:8080/"
        },
        "id": "hCh3vgNmn_EE",
        "outputId": "e785043b-258b-4a4d-c2f2-52b02bc281cd"
      },
      "execution_count": null,
      "outputs": [
        {
          "output_type": "stream",
          "name": "stdout",
          "text": [
            "Popped element: 30\n",
            "Updated list: [10, 20, 40, 50]\n"
          ]
        }
      ]
    },
    {
      "cell_type": "code",
      "source": [
        "my_list = [10, 20, 30, 40, 50]\n",
        "max_value = max(my_list)\n",
        "print(\"The maximum value is:\", max_value)"
      ],
      "metadata": {
        "colab": {
          "base_uri": "https://localhost:8080/"
        },
        "id": "T9fR5WDloM7c",
        "outputId": "61287cd2-b973-466f-ec34-13eaabb1da72"
      },
      "execution_count": null,
      "outputs": [
        {
          "output_type": "stream",
          "name": "stdout",
          "text": [
            "The maximum value is: 50\n"
          ]
        }
      ]
    },
    {
      "cell_type": "code",
      "source": [
        "max_value = max([], default=\"No elements\")\n",
        "print(max_value)"
      ],
      "metadata": {
        "colab": {
          "base_uri": "https://localhost:8080/"
        },
        "id": "njJsNG4BodVs",
        "outputId": "1297cf88-e2e4-4027-a4da-9c65e607e391"
      },
      "execution_count": null,
      "outputs": [
        {
          "output_type": "stream",
          "name": "stdout",
          "text": [
            "No elements\n"
          ]
        }
      ]
    }
  ]
}