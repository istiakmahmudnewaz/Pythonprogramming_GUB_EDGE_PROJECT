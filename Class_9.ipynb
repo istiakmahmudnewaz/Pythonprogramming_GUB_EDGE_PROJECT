{
  "nbformat": 4,
  "nbformat_minor": 0,
  "metadata": {
    "colab": {
      "provenance": [],
      "authorship_tag": "ABX9TyNMd7YnTneroXBBE0pJRxxH",
      "include_colab_link": true
    },
    "kernelspec": {
      "name": "python3",
      "display_name": "Python 3"
    },
    "language_info": {
      "name": "python"
    }
  },
  "cells": [
    {
      "cell_type": "markdown",
      "metadata": {
        "id": "view-in-github",
        "colab_type": "text"
      },
      "source": [
        "<a href=\"https://colab.research.google.com/github/istiakmahmudnewaz/Pythonprogramming_GUB_EDGE_PROJECT/blob/main/Class_9.ipynb\" target=\"_parent\"><img src=\"https://colab.research.google.com/assets/colab-badge.svg\" alt=\"Open In Colab\"/></a>"
      ]
    },
    {
      "cell_type": "markdown",
      "source": [
        "# Exercise"
      ],
      "metadata": {
        "id": "uMVZJ7lXL7TU"
      }
    },
    {
      "cell_type": "code",
      "execution_count": null,
      "metadata": {
        "id": "5UK2fIeHIZvW",
        "colab": {
          "base_uri": "https://localhost:8080/"
        },
        "outputId": "bb64efc4-a029-4244-c982-241c5a91fdce"
      },
      "outputs": [
        {
          "output_type": "stream",
          "name": "stdout",
          "text": [
            "Enter Student name: Istiak Mahmud Newaz\n",
            "Enter Student name: Ruhin Baki\n",
            "Enter Student name: Zobayer CHowdhury\n",
            "Enter Student name: Newaz\n",
            "Enter Student name: Mahmud\n",
            "ISTIAK MAHMUD NEWAZ\n",
            "RUHIN BAKI\n",
            "ZOBAYER CHOWDHURY\n",
            "NEWAZ\n",
            "MAHMUD\n"
          ]
        }
      ],
      "source": [
        "std_list = []\n",
        "for i in range(5):\n",
        "    std_list.append(input(\"Enter Student name: \"))\n",
        "\n",
        "for i in std_list:\n",
        "    print(i.upper())"
      ]
    },
    {
      "cell_type": "code",
      "source": [
        "num_list = []\n",
        "for i in range(10):\n",
        "    num_list.append(int(input(\"Enter a numebr: \")))\n",
        "\n",
        "for i in num_list:\n",
        "    if i%2 != 0:\n",
        "        print(i)"
      ],
      "metadata": {
        "colab": {
          "base_uri": "https://localhost:8080/"
        },
        "id": "EVCWCbqILBOY",
        "outputId": "6b8d0b01-b8e5-43ac-d4e5-bb44f1af39e9"
      },
      "execution_count": null,
      "outputs": [
        {
          "output_type": "stream",
          "name": "stdout",
          "text": [
            "Enter a numebr: 16\n",
            "Enter a numebr: 12\n",
            "Enter a numebr: 18\n",
            "Enter a numebr: 20\n",
            "Enter a numebr: 25\n",
            "Enter a numebr: 35\n",
            "Enter a numebr: 18\n",
            "Enter a numebr: 25\n",
            "Enter a numebr: 30\n",
            "Enter a numebr: 35\n",
            "25\n",
            "35\n",
            "25\n",
            "35\n"
          ]
        }
      ]
    },
    {
      "cell_type": "code",
      "source": [
        "even_num = [i for i in range(1, 21) if i%2==0]\n",
        "print(even_num)"
      ],
      "metadata": {
        "colab": {
          "base_uri": "https://localhost:8080/"
        },
        "id": "JH5-N7DTLd_P",
        "outputId": "3819f99b-c0f4-44d4-c035-e645a4d31844"
      },
      "execution_count": null,
      "outputs": [
        {
          "output_type": "stream",
          "name": "stdout",
          "text": [
            "[2, 4, 6, 8, 10, 12, 14, 16, 18, 20]\n"
          ]
        }
      ]
    },
    {
      "cell_type": "code",
      "source": [
        "std_name = [\"Newaz\",\"Mahmud\",\"Nazmul\",\"Faisal\",\"Zobayer\",\"Ruhin\",\"Nafiz\"]\n",
        "new_std_name = [i for i in std_name if i.startswith(\"a\")]\n",
        "print(new_std_name)"
      ],
      "metadata": {
        "colab": {
          "base_uri": "https://localhost:8080/"
        },
        "id": "Ygouk6LpLl5e",
        "outputId": "29790bcc-74b6-4665-adee-daffa2e3eca3"
      },
      "execution_count": null,
      "outputs": [
        {
          "output_type": "stream",
          "name": "stdout",
          "text": [
            "[]\n"
          ]
        }
      ]
    },
    {
      "cell_type": "code",
      "source": [
        "num = []\n",
        "\n",
        "for i in range(10):\n",
        "    num.append(int(input(\"Enter a number: \")))\n",
        "tuple_num = tuple(num)\n",
        "\n",
        "for i in num:\n",
        "    if i%2 != 0:\n",
        "        print(i)"
      ],
      "metadata": {
        "colab": {
          "base_uri": "https://localhost:8080/"
        },
        "id": "JBabGYCCMHeF",
        "outputId": "69a6a341-61b3-40e0-ce40-bb29c36d5cf0"
      },
      "execution_count": null,
      "outputs": [
        {
          "name": "stdout",
          "output_type": "stream",
          "text": [
            "Enter a number: 12\n"
          ]
        }
      ]
    },
    {
      "cell_type": "code",
      "source": [
        "#set\n",
        "\n",
        "my_set = {1, 2, 3, 4}\n",
        "my_set.add(2)\n",
        "print(my_set)"
      ],
      "metadata": {
        "id": "2qVsieDmMt0J"
      },
      "execution_count": null,
      "outputs": []
    },
    {
      "cell_type": "code",
      "source": [
        "number_set = {1, 2, 3, 4, 5}\n",
        "print(\"Initial set:\", number_set)\n",
        "new_number = int(input(\"Enter a new number to add to the set: \"))\n",
        "number_set.add(new_number)\n",
        "print(\"Updated set:\", number_set)"
      ],
      "metadata": {
        "id": "ZNLegESPNOV2"
      },
      "execution_count": null,
      "outputs": []
    },
    {
      "cell_type": "code",
      "source": [
        "num = {1,6,8,5,7}\n",
        "num.add(9)\n",
        "print(num)"
      ],
      "metadata": {
        "id": "c3vesM15Nt7q"
      },
      "execution_count": null,
      "outputs": []
    },
    {
      "cell_type": "code",
      "source": [
        "a ={2,5,7}\n",
        "b ={5,4,6}\n",
        "c = a.intersection(b)\n",
        "print(c)"
      ],
      "metadata": {
        "id": "tP7hqnuaPI71"
      },
      "execution_count": null,
      "outputs": []
    },
    {
      "cell_type": "code",
      "source": [
        "my_set = set()\n",
        "\n",
        "for i in range(5):\n",
        "    item = input(\"Enter an item: \")\n",
        "    my_set.add(item)\n",
        "\n",
        "print(\"Items in lowercase:\")\n",
        "for item in my_set:\n",
        "    print(item.lower())\n",
        "\n",
        "print(\"\\nItems in uppercase:\")\n",
        "for item in my_set:\n",
        "    print(item.upper())"
      ],
      "metadata": {
        "id": "XMheovmbRIVZ"
      },
      "execution_count": null,
      "outputs": []
    },
    {
      "cell_type": "code",
      "source": [
        "my_set = set()\n",
        "for i in range(5):\n",
        "    item = input(\"Enter an item: \")\n",
        "    my_set.add(item)\n",
        "\n",
        "print(\"Initial set:\", my_set)\n",
        "\n",
        "new_item = input(\"Enter an item to add to the set: \")\n",
        "my_set.add(new_item)\n",
        "\n",
        "print(\"Updated set:\", my_set)\n"
      ],
      "metadata": {
        "id": "Cf4djaDMRTTN"
      },
      "execution_count": null,
      "outputs": []
    },
    {
      "cell_type": "code",
      "source": [
        "number_set = set()\n",
        "for i in range(5):\n",
        "    while True:\n",
        "        try:\n",
        "            num = int(input(f\"Enter number {i + 1}: \"))\n",
        "            number_set.add(num)\n",
        "            break\n",
        "        except ValueError:\n",
        "            print(\"Invalid input. Please enter an integer.\")\n",
        "\n",
        "total_sum = sum(number_set)\n",
        "total_product = 1\n",
        "for num in number_set:\n",
        "    total_product *= num\n",
        "print(\"Set of numbers:\", number_set)\n",
        "print(\"Sum of numbers:\", total_sum)\n",
        "print(\"Product of numbers:\", total_product)"
      ],
      "metadata": {
        "id": "PbwzEQiVRbsx"
      },
      "execution_count": null,
      "outputs": []
    },
    {
      "cell_type": "code",
      "source": [
        "cities= \"Dhaka\", \"Khulna\", \"Barishal\", \"Chittagong\"}\n",
        "cities.remove(\"Dhaka\")\n",
        "print(cities)"
      ],
      "metadata": {
        "id": "gH2YQvwJTg6J"
      },
      "execution_count": null,
      "outputs": []
    },
    {
      "cell_type": "code",
      "source": [
        "def set_intersection():\n",
        "    \"\"\"Gets two sets from the user and finds their intersection.\"\"\"\n",
        "\n",
        "    try:\n",
        "        set1 = set(input(\"Enter elements for the first set (comma-separated): \").split(','))\n",
        "        set2 = set(input(\"Enter elements for the second set (comma-separated): \").split(','))\n",
        "\n",
        "        intersection = set1.intersection(set2)\n",
        "        print(\"Intersection of the two sets:\", intersection)\n",
        "\n",
        "    except ValueError:\n",
        "        print(\"Invalid input. Please enter comma-separated elements for the sets.\")\n",
        "\n",
        "set_intersection()"
      ],
      "metadata": {
        "id": "w1Thz3ONhE2d"
      },
      "execution_count": null,
      "outputs": []
    },
    {
      "cell_type": "code",
      "source": [
        "def check_subset():\n",
        "    \"\"\"Gets two sets from the user and checks if one is a subset of the other.\"\"\"\n",
        "\n",
        "    try:\n",
        "        set1 = set(input(\"Enter elements for the first set (comma-separated): \").split(','))\n",
        "        set2 = set(input(\"Enter elements for the second set (comma-separated): \").split(','))\n",
        "\n",
        "        if set1.issubset(set2):\n",
        "            print(\"Set 1 is a subset of Set 2\")\n",
        "        elif set2.issubset(set1):\n",
        "            print(\"Set 2 is a subset of Set 1\")\n",
        "        else:\n",
        "            print(\"Neither set is a subset of the other\")\n",
        "\n",
        "    except ValueError:\n",
        "        print(\"Invalid input. Please enter comma-separated elements for the sets.\")\n",
        "\n",
        "check_subset()"
      ],
      "metadata": {
        "id": "9hgVv4hghKUX"
      },
      "execution_count": null,
      "outputs": []
    },
    {
      "cell_type": "code",
      "source": [
        "my_set = set()\n",
        "\n",
        "\n",
        "for i in range(5):\n",
        "    item = input(\"Enter an item for the set: \")\n",
        "    my_set.add(item)\n",
        "\n",
        "print(\"Initial set:\", my_set)\n",
        "\n",
        "remove_item = input(\"Enter an item to remove from the set: \")\n",
        "if remove_item in my_set:\n",
        "    removed_item = remove_item\n",
        "    my_set.remove(remove_item)\n",
        "    print(\"Set after removing\", removed_item + \":\", my_set)\n",
        "else:\n",
        "    print(remove_item, \"not found in set.\")\n",
        "\n",
        "print(\"Updated set:\", my_set)\n",
        "\n",
        "if 'removed_item' in locals():\n",
        "    my_set.add(removed_item)\n",
        "    print(\"Set after adding back\", removed_item + \":\", my_set)\n",
        "else:\n",
        "    print(\"No item was removed earlier.\")\n",
        "\n",
        "print(\"Final set:\", my_set)"
      ],
      "metadata": {
        "id": "iRy8J0wzhQIG"
      },
      "execution_count": null,
      "outputs": []
    },
    {
      "cell_type": "code",
      "source": [
        "my_set = set()\n",
        "\n",
        "for i in range(5):\n",
        "  item = input(\"Enter an element: \")\n",
        "  my_set.add(item)\n",
        "\n",
        "print(\"Elements in the set:\")\n",
        "for item in my_set:\n",
        "  print(item)\n",
        "\n",
        "print(\"\\nTotal number of elements:\", len(my_set))"
      ],
      "metadata": {
        "id": "xRSSWcxdhn2P"
      },
      "execution_count": null,
      "outputs": []
    },
    {
      "cell_type": "code",
      "source": [
        "my_list = []\n",
        "\n",
        "for i in range(5):\n",
        "    element = input(f\"Enter element {i+1}: \")\n",
        "    my_list.append(element)\n",
        "\n",
        "my_set = set(my_list)\n",
        "\n",
        "print(\"Set:\", my_set)"
      ],
      "metadata": {
        "id": "ooK0WS7Fh1wB"
      },
      "execution_count": null,
      "outputs": []
    }
  ]
}