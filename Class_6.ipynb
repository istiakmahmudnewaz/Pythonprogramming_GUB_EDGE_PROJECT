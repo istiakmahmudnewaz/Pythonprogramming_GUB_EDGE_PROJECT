{
  "nbformat": 4,
  "nbformat_minor": 0,
  "metadata": {
    "colab": {
      "provenance": [],
      "authorship_tag": "ABX9TyPdp/BsrN4zsbgXDMmyYeHf",
      "include_colab_link": true
    },
    "kernelspec": {
      "name": "python3",
      "display_name": "Python 3"
    },
    "language_info": {
      "name": "python"
    }
  },
  "cells": [
    {
      "cell_type": "markdown",
      "metadata": {
        "id": "view-in-github",
        "colab_type": "text"
      },
      "source": [
        "<a href=\"https://colab.research.google.com/github/istiakmahmudnewaz/Pythonprogramming_GUB_EDGE_PROJECT/blob/main/Class_6.ipynb\" target=\"_parent\"><img src=\"https://colab.research.google.com/assets/colab-badge.svg\" alt=\"Open In Colab\"/></a>"
      ]
    },
    {
      "cell_type": "code",
      "execution_count": null,
      "metadata": {
        "colab": {
          "base_uri": "https://localhost:8080/"
        },
        "id": "xF8BwSURu5cO",
        "outputId": "d0f9ded5-ea77-4655-db3f-8699fd15df7a"
      },
      "outputs": [
        {
          "output_type": "stream",
          "name": "stdout",
          "text": [
            "Bangladesh\n"
          ]
        }
      ],
      "source": [
        "def istiak():\n",
        "  print(\"Bangladesh\")\n",
        "istiak()"
      ]
    },
    {
      "cell_type": "code",
      "source": [
        "def show(name, num):\n",
        "  print(name)\n",
        "  print(num)\n",
        "show(str(istiak),32)"
      ],
      "metadata": {
        "colab": {
          "base_uri": "https://localhost:8080/"
        },
        "id": "5lvDiDAT09Ur",
        "outputId": "4778448d-3539-4d16-e578-995677cc8683"
      },
      "execution_count": null,
      "outputs": [
        {
          "output_type": "stream",
          "name": "stdout",
          "text": [
            "<function istiak at 0x7986313275b0>\n",
            "32\n"
          ]
        }
      ]
    },
    {
      "cell_type": "code",
      "source": [
        "def show_value(a, b, c):\n",
        "  print(“a = ”+a)\n",
        "  print(“b = ”+b)\n",
        "  print(“c = ”+c)\n",
        "show_value(3, 5, 1)"
      ],
      "metadata": {
        "id": "P9KgEFBA5PmM"
      },
      "execution_count": null,
      "outputs": []
    },
    {
      "cell_type": "code",
      "source": [
        "def show(num1, num2 = 33):\n",
        "   print(num1+num2)\n",
        "show(num1 = 43)"
      ],
      "metadata": {
        "colab": {
          "base_uri": "https://localhost:8080/"
        },
        "id": "4Kue0B_U5nCL",
        "outputId": "5ddeb32f-4d96-4c5b-88c9-998736ff42f0"
      },
      "execution_count": null,
      "outputs": [
        {
          "output_type": "stream",
          "name": "stdout",
          "text": [
            "76\n"
          ]
        }
      ]
    },
    {
      "cell_type": "code",
      "source": [
        "def show():\n",
        "  a = 32\n",
        "  b = 12\n",
        "  return (a + b)\n",
        "print(show())"
      ],
      "metadata": {
        "colab": {
          "base_uri": "https://localhost:8080/"
        },
        "id": "eZEWHbPq7f1_",
        "outputId": "a0d09304-5d66-4ba4-a102-37fd92809f38"
      },
      "execution_count": null,
      "outputs": [
        {
          "output_type": "stream",
          "name": "stdout",
          "text": [
            "44\n"
          ]
        }
      ]
    },
    {
      "cell_type": "code",
      "source": [
        "a = 30\n",
        "\n",
        "if a > 30:\n",
        "   pass\n",
        "\n",
        "for i in range(1,10):\n",
        "\n",
        "   pass\n",
        "def func():\n",
        "   pass\n",
        "\n",
        "while(a == 23):\n",
        "   pass"
      ],
      "metadata": {
        "id": "1cDYYEYj73B-"
      },
      "execution_count": null,
      "outputs": []
    }
  ]
}