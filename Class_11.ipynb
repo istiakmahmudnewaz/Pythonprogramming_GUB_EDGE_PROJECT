{
  "nbformat": 4,
  "nbformat_minor": 0,
  "metadata": {
    "colab": {
      "provenance": [],
      "authorship_tag": "ABX9TyPVWYFFpvR3iy7elbeVkG1r",
      "include_colab_link": true
    },
    "kernelspec": {
      "name": "python3",
      "display_name": "Python 3"
    },
    "language_info": {
      "name": "python"
    }
  },
  "cells": [
    {
      "cell_type": "markdown",
      "metadata": {
        "id": "view-in-github",
        "colab_type": "text"
      },
      "source": [
        "<a href=\"https://colab.research.google.com/github/istiakmahmudnewaz/Pythonprogramming_GUB_EDGE_PROJECT/blob/main/Class_11.ipynb\" target=\"_parent\"><img src=\"https://colab.research.google.com/assets/colab-badge.svg\" alt=\"Open In Colab\"/></a>"
      ]
    },
    {
      "cell_type": "code",
      "source": [
        "class ATM:\n",
        "    def __init__(self, account_holder, balance=0):\n",
        "        self.account_holder = account_holder\n",
        "        self.balance = balance\n",
        "\n",
        "    def deposit(self, amount):\n",
        "        if amount > 0:\n",
        "            self.balance += amount\n",
        "            print(f\"Successfully deposited ${amount}. Current balance: ${self.balance}\")\n",
        "        else:\n",
        "            print(\"Please enter a valid amount to deposit.\")\n",
        "\n",
        "    def withdraw(self, amount):\n",
        "        if amount <= 0:\n",
        "            print(\"Please enter a valid amount to withdraw.\")\n",
        "        elif amount > self.balance:\n",
        "            print(\"Insufficient funds!\")\n",
        "        else:\n",
        "            self.balance -= amount\n",
        "            print(f\"Successfully withdrew ${amount}. Current balance: ${self.balance}\")\n",
        "\n",
        "    def check_balance(self):\n",
        "        print(f\"Current balance: ${self.balance}\")\n",
        "\n",
        "    def account_details(self):\n",
        "        print(f\"Account Holder: {self.account_holder}\")\n",
        "        print(f\"Balance: ${self.balance}\")\n",
        "\n",
        "def atm_machine():\n",
        "    print(\"Welcome to the ATM Machine\")\n",
        "\n",
        "    # Sample account\n",
        "    account_holder = input(\"Enter your name: \")\n",
        "    atm = ATM(account_holder)\n",
        "\n",
        "    while True:\n",
        "        print(\"\\nATM Menu:\")\n",
        "        print(\"1. Deposit Money\")\n",
        "        print(\"2. Withdraw Money\")\n",
        "        print(\"3. Check Balance\")\n",
        "        print(\"4. Show Account Details\")\n",
        "        print(\"5. Exit\")\n",
        "\n",
        "        choice = input(\"Enter your choice: \")\n",
        "\n",
        "        if choice == '1':\n",
        "            amount = float(input(\"Enter the amount to deposit: \"))\n",
        "            atm.deposit(amount)\n",
        "\n",
        "        elif choice == '2':\n",
        "            amount = float(input(\"Enter the amount to withdraw: \"))\n",
        "            atm.withdraw(amount)\n",
        "\n",
        "        elif choice == '3':\n",
        "            atm.check_balance()\n",
        "\n",
        "        elif choice == '4':\n",
        "            atm.account_details()\n",
        "\n",
        "        elif choice == '5':\n",
        "            print(\"Thank you for using the ATM. Goodbye!\")\n",
        "            break\n",
        "\n",
        "        else:\n",
        "            print(\"Invalid choice. Please try again.\")"
      ],
      "metadata": {
        "id": "tAHdp9qGX5HW"
      },
      "execution_count": null,
      "outputs": []
    }
  ]
}