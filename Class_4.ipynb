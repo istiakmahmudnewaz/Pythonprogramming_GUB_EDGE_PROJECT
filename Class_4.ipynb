{
  "nbformat": 4,
  "nbformat_minor": 0,
  "metadata": {
    "colab": {
      "provenance": [],
      "authorship_tag": "ABX9TyPFvQZ+7/kW7MZogYG6f34p",
      "include_colab_link": true
    },
    "kernelspec": {
      "name": "python3",
      "display_name": "Python 3"
    },
    "language_info": {
      "name": "python"
    }
  },
  "cells": [
    {
      "cell_type": "markdown",
      "metadata": {
        "id": "view-in-github",
        "colab_type": "text"
      },
      "source": [
        "<a href=\"https://colab.research.google.com/github/istiakmahmudnewaz/Pythonprogramming_GUB_EDGE_PROJECT/blob/main/Class_4.ipynb\" target=\"_parent\"><img src=\"https://colab.research.google.com/assets/colab-badge.svg\" alt=\"Open In Colab\"/></a>"
      ]
    },
    {
      "cell_type": "code",
      "execution_count": null,
      "metadata": {
        "id": "fgyAJKNlzbf3",
        "colab": {
          "base_uri": "https://localhost:8080/"
        },
        "outputId": "81df02d9-508a-4b90-ec4b-6981065eb95b"
      },
      "outputs": [
        {
          "output_type": "stream",
          "name": "stdout",
          "text": [
            "Enter your name: fahmid\n",
            "fahmid\n",
            "Invalid input\n"
          ]
        }
      ],
      "source": [
        "name = input(\"Enter your name: \")\n",
        "print(name)\n",
        "\n",
        "if 5<=len(name)<10 and name[0].lower()=='a':\n",
        "    print(\"Hello,\",name)\n",
        "else:\n",
        "    print(\"Invalid input\")"
      ]
    },
    {
      "cell_type": "code",
      "source": [
        "age = int(input(\"Enter your age: \"))\n",
        "print(age)\n",
        "\n",
        "marks = int(input(\"Enter your marks: \"))\n",
        "print(marks)\n",
        "\n",
        "if age >= 18 and 90 < marks < 100:\n",
        "    print(\"Selected\")\n",
        "else:\n",
        "    print(\"You are not Selected\")\n"
      ],
      "metadata": {
        "colab": {
          "base_uri": "https://localhost:8080/"
        },
        "id": "3yJAernl2aMN",
        "outputId": "9ebe1e2a-625b-4c87-b3ba-958d22ad0c83"
      },
      "execution_count": null,
      "outputs": [
        {
          "output_type": "stream",
          "name": "stdout",
          "text": [
            "Enter your age: 20\n",
            "20\n",
            "Enter your marks: 95\n",
            "95\n",
            "Selected\n"
          ]
        }
      ]
    },
    {
      "cell_type": "code",
      "source": [
        "for x in range(20):\n",
        "    print(x)"
      ],
      "metadata": {
        "colab": {
          "base_uri": "https://localhost:8080/"
        },
        "id": "GWexcusX7BzE",
        "outputId": "5b64f66c-a336-4e75-e074-7fa811906a2f"
      },
      "execution_count": null,
      "outputs": [
        {
          "output_type": "stream",
          "name": "stdout",
          "text": [
            "0\n",
            "1\n",
            "2\n",
            "3\n",
            "4\n",
            "5\n",
            "6\n",
            "7\n",
            "8\n",
            "9\n",
            "10\n",
            "11\n",
            "12\n",
            "13\n",
            "14\n",
            "15\n",
            "16\n",
            "17\n",
            "18\n",
            "19\n"
          ]
        }
      ]
    },
    {
      "cell_type": "code",
      "source": [
        "for x in range(10,20):\n",
        "    print(x)"
      ],
      "metadata": {
        "colab": {
          "base_uri": "https://localhost:8080/"
        },
        "id": "5lEslTw57dEA",
        "outputId": "d089deac-513b-4f03-eb4f-54a89801a019"
      },
      "execution_count": null,
      "outputs": [
        {
          "output_type": "stream",
          "name": "stdout",
          "text": [
            "10\n",
            "11\n",
            "12\n",
            "13\n",
            "14\n",
            "15\n",
            "16\n",
            "17\n",
            "18\n",
            "19\n"
          ]
        }
      ]
    },
    {
      "cell_type": "code",
      "source": [
        "for x in range (50,0, -1):\n",
        "  if x%2==1:\n",
        "   print(x, \"Exam Time 4. PM\")\n",
        "  else:\n",
        "    print(x, \"Exam Time 5. PM\")"
      ],
      "metadata": {
        "colab": {
          "base_uri": "https://localhost:8080/"
        },
        "id": "ZVZx5JZm8b6T",
        "outputId": "d6289f16-b1d4-4e65-833c-9b97db16b1d9"
      },
      "execution_count": null,
      "outputs": [
        {
          "output_type": "stream",
          "name": "stdout",
          "text": [
            "50 Exam Time 5. PM\n",
            "49 Exam Time 4. PM\n",
            "48 Exam Time 5. PM\n",
            "47 Exam Time 4. PM\n",
            "46 Exam Time 5. PM\n",
            "45 Exam Time 4. PM\n",
            "44 Exam Time 5. PM\n",
            "43 Exam Time 4. PM\n",
            "42 Exam Time 5. PM\n",
            "41 Exam Time 4. PM\n",
            "40 Exam Time 5. PM\n",
            "39 Exam Time 4. PM\n",
            "38 Exam Time 5. PM\n",
            "37 Exam Time 4. PM\n",
            "36 Exam Time 5. PM\n",
            "35 Exam Time 4. PM\n",
            "34 Exam Time 5. PM\n",
            "33 Exam Time 4. PM\n",
            "32 Exam Time 5. PM\n",
            "31 Exam Time 4. PM\n",
            "30 Exam Time 5. PM\n",
            "29 Exam Time 4. PM\n",
            "28 Exam Time 5. PM\n",
            "27 Exam Time 4. PM\n",
            "26 Exam Time 5. PM\n",
            "25 Exam Time 4. PM\n",
            "24 Exam Time 5. PM\n",
            "23 Exam Time 4. PM\n",
            "22 Exam Time 5. PM\n",
            "21 Exam Time 4. PM\n",
            "20 Exam Time 5. PM\n",
            "19 Exam Time 4. PM\n",
            "18 Exam Time 5. PM\n",
            "17 Exam Time 4. PM\n",
            "16 Exam Time 5. PM\n",
            "15 Exam Time 4. PM\n",
            "14 Exam Time 5. PM\n",
            "13 Exam Time 4. PM\n",
            "12 Exam Time 5. PM\n",
            "11 Exam Time 4. PM\n",
            "10 Exam Time 5. PM\n",
            "9 Exam Time 4. PM\n",
            "8 Exam Time 5. PM\n",
            "7 Exam Time 4. PM\n",
            "6 Exam Time 5. PM\n",
            "5 Exam Time 4. PM\n",
            "4 Exam Time 5. PM\n",
            "3 Exam Time 4. PM\n",
            "2 Exam Time 5. PM\n",
            "1 Exam Time 4. PM\n"
          ]
        }
      ]
    },
    {
      "cell_type": "code",
      "source": [
        "i = 100\n",
        "while i >=1:\n",
        "  if i%2==1:\n",
        "    print(i, \"Exam Time 4.00 PM\")\n",
        "  else:\n",
        "    print(i, \"Exam Time 5.00 PM\")\n",
        "\n",
        "  i = i-1"
      ],
      "metadata": {
        "colab": {
          "base_uri": "https://localhost:8080/"
        },
        "id": "BKZJqI-xGU0f",
        "outputId": "9fa03540-8ad5-406c-fa05-f8ad15816538"
      },
      "execution_count": null,
      "outputs": [
        {
          "output_type": "stream",
          "name": "stdout",
          "text": [
            "100 Exam Time 5.00 PM\n",
            "99 Exam Time 4.00 PM\n",
            "98 Exam Time 5.00 PM\n",
            "97 Exam Time 4.00 PM\n",
            "96 Exam Time 5.00 PM\n",
            "95 Exam Time 4.00 PM\n",
            "94 Exam Time 5.00 PM\n",
            "93 Exam Time 4.00 PM\n",
            "92 Exam Time 5.00 PM\n",
            "91 Exam Time 4.00 PM\n",
            "90 Exam Time 5.00 PM\n",
            "89 Exam Time 4.00 PM\n",
            "88 Exam Time 5.00 PM\n",
            "87 Exam Time 4.00 PM\n",
            "86 Exam Time 5.00 PM\n",
            "85 Exam Time 4.00 PM\n",
            "84 Exam Time 5.00 PM\n",
            "83 Exam Time 4.00 PM\n",
            "82 Exam Time 5.00 PM\n",
            "81 Exam Time 4.00 PM\n",
            "80 Exam Time 5.00 PM\n",
            "79 Exam Time 4.00 PM\n",
            "78 Exam Time 5.00 PM\n",
            "77 Exam Time 4.00 PM\n",
            "76 Exam Time 5.00 PM\n",
            "75 Exam Time 4.00 PM\n",
            "74 Exam Time 5.00 PM\n",
            "73 Exam Time 4.00 PM\n",
            "72 Exam Time 5.00 PM\n",
            "71 Exam Time 4.00 PM\n",
            "70 Exam Time 5.00 PM\n",
            "69 Exam Time 4.00 PM\n",
            "68 Exam Time 5.00 PM\n",
            "67 Exam Time 4.00 PM\n",
            "66 Exam Time 5.00 PM\n",
            "65 Exam Time 4.00 PM\n",
            "64 Exam Time 5.00 PM\n",
            "63 Exam Time 4.00 PM\n",
            "62 Exam Time 5.00 PM\n",
            "61 Exam Time 4.00 PM\n",
            "60 Exam Time 5.00 PM\n",
            "59 Exam Time 4.00 PM\n",
            "58 Exam Time 5.00 PM\n",
            "57 Exam Time 4.00 PM\n",
            "56 Exam Time 5.00 PM\n",
            "55 Exam Time 4.00 PM\n",
            "54 Exam Time 5.00 PM\n",
            "53 Exam Time 4.00 PM\n",
            "52 Exam Time 5.00 PM\n",
            "51 Exam Time 4.00 PM\n",
            "50 Exam Time 5.00 PM\n",
            "49 Exam Time 4.00 PM\n",
            "48 Exam Time 5.00 PM\n",
            "47 Exam Time 4.00 PM\n",
            "46 Exam Time 5.00 PM\n",
            "45 Exam Time 4.00 PM\n",
            "44 Exam Time 5.00 PM\n",
            "43 Exam Time 4.00 PM\n",
            "42 Exam Time 5.00 PM\n",
            "41 Exam Time 4.00 PM\n",
            "40 Exam Time 5.00 PM\n",
            "39 Exam Time 4.00 PM\n",
            "38 Exam Time 5.00 PM\n",
            "37 Exam Time 4.00 PM\n",
            "36 Exam Time 5.00 PM\n",
            "35 Exam Time 4.00 PM\n",
            "34 Exam Time 5.00 PM\n",
            "33 Exam Time 4.00 PM\n",
            "32 Exam Time 5.00 PM\n",
            "31 Exam Time 4.00 PM\n",
            "30 Exam Time 5.00 PM\n",
            "29 Exam Time 4.00 PM\n",
            "28 Exam Time 5.00 PM\n",
            "27 Exam Time 4.00 PM\n",
            "26 Exam Time 5.00 PM\n",
            "25 Exam Time 4.00 PM\n",
            "24 Exam Time 5.00 PM\n",
            "23 Exam Time 4.00 PM\n",
            "22 Exam Time 5.00 PM\n",
            "21 Exam Time 4.00 PM\n",
            "20 Exam Time 5.00 PM\n",
            "19 Exam Time 4.00 PM\n",
            "18 Exam Time 5.00 PM\n",
            "17 Exam Time 4.00 PM\n",
            "16 Exam Time 5.00 PM\n",
            "15 Exam Time 4.00 PM\n",
            "14 Exam Time 5.00 PM\n",
            "13 Exam Time 4.00 PM\n",
            "12 Exam Time 5.00 PM\n",
            "11 Exam Time 4.00 PM\n",
            "10 Exam Time 5.00 PM\n",
            "9 Exam Time 4.00 PM\n",
            "8 Exam Time 5.00 PM\n",
            "7 Exam Time 4.00 PM\n",
            "6 Exam Time 5.00 PM\n",
            "5 Exam Time 4.00 PM\n",
            "4 Exam Time 5.00 PM\n",
            "3 Exam Time 4.00 PM\n",
            "2 Exam Time 5.00 PM\n",
            "1 Exam Time 4.00 PM\n"
          ]
        }
      ]
    },
    {
      "cell_type": "code",
      "source": [
        "# prompt: Get a Number from User to Display Table of that Number using While Loop.\n",
        "number = int(input(\"Enter a number: \"))\n",
        "\n",
        "i = 1\n",
        "while i <= 10:\n",
        "  print(number, \"x\", i, \"=\", number * i)\n",
        "  i += 1"
      ],
      "metadata": {
        "colab": {
          "base_uri": "https://localhost:8080/"
        },
        "id": "93Mk2TUcHe52",
        "outputId": "2584f07d-e797-4a15-8cd1-978014f87c79"
      },
      "execution_count": null,
      "outputs": [
        {
          "output_type": "stream",
          "name": "stdout",
          "text": [
            "Enter a number: 7\n",
            "7 x 1 = 7\n",
            "7 x 2 = 14\n",
            "7 x 3 = 21\n",
            "7 x 4 = 28\n",
            "7 x 5 = 35\n",
            "7 x 6 = 42\n",
            "7 x 7 = 49\n",
            "7 x 8 = 56\n",
            "7 x 9 = 63\n",
            "7 x 10 = 70\n"
          ]
        }
      ]
    },
    {
      "cell_type": "code",
      "source": [
        "odd_numbers = [num for num in range(1, 21) if num % 2 != 0]\n",
        "even_numbers = [num for num in range(20, 0, -1) if num % 2 == 0]\n",
        "total_sum = sum(odd_numbers) + sum(even_numbers)\n",
        "\n",
        "print(f\"Odd Numbers from 1 to 20: {odd_numbers}\")\n",
        "print(f\"Even Numbers from 20 to 1: {even_numbers}\")\n",
        "print(f\"Total Sum: {total_sum}\")\n"
      ],
      "metadata": {
        "colab": {
          "base_uri": "https://localhost:8080/"
        },
        "id": "E2pKruDKJRYs",
        "outputId": "be01037e-9b10-4f0a-95a9-39ad5136ed4d"
      },
      "execution_count": null,
      "outputs": [
        {
          "output_type": "stream",
          "name": "stdout",
          "text": [
            "Odd Numbers from 1 to 20: [1, 3, 5, 7, 9, 11, 13, 15, 17, 19]\n",
            "Even Numbers from 20 to 1: [20, 18, 16, 14, 12, 10, 8, 6, 4, 2]\n",
            "Total Sum: 210\n"
          ]
        }
      ]
    },
    {
      "cell_type": "code",
      "source": [
        "start = int(input(\"Enter the starting number: \"))\n",
        "end = int(input(\"Enter the ending number: \"))\n",
        "\n",
        "if start<end:\n",
        "  for num in range(start, end+1):\n",
        "    print(num, end=\" \")\n",
        "else:\n",
        "  print(\"Invalid input\")"
      ],
      "metadata": {
        "colab": {
          "base_uri": "https://localhost:8080/"
        },
        "id": "-BORyXiNLUMS",
        "outputId": "77de94ee-abb1-4bbd-84ac-ab664fbe5059"
      },
      "execution_count": null,
      "outputs": [
        {
          "output_type": "stream",
          "name": "stdout",
          "text": [
            "Enter the starting number: 1\n",
            "Enter the ending number: 7\n",
            "1 2 3 4 5 6 7 "
          ]
        }
      ]
    },
    {
      "cell_type": "code",
      "source": [
        "for i in range(2):\n",
        "  for j in range(2):\n",
        "    print(i, j)\n"
      ],
      "metadata": {
        "colab": {
          "base_uri": "https://localhost:8080/"
        },
        "id": "FfEoJdBxNj5g",
        "outputId": "a67b5912-5b29-4f18-92d5-172b7f21b6c6"
      },
      "execution_count": null,
      "outputs": [
        {
          "output_type": "stream",
          "name": "stdout",
          "text": [
            "0 0\n",
            "0 1\n",
            "1 0\n",
            "1 1\n"
          ]
        }
      ]
    },
    {
      "cell_type": "code",
      "source": [],
      "metadata": {
        "id": "96Ud4AHrP9uR"
      },
      "execution_count": null,
      "outputs": []
    }
  ]
}