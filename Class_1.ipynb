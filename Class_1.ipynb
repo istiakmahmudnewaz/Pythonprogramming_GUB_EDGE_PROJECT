{
  "nbformat": 4,
  "nbformat_minor": 0,
  "metadata": {
    "colab": {
      "provenance": [],
      "authorship_tag": "ABX9TyMv9nDlLA1xfhQlh5ukm+Js",
      "include_colab_link": true
    },
    "kernelspec": {
      "name": "python3",
      "display_name": "Python 3"
    },
    "language_info": {
      "name": "python"
    }
  },
  "cells": [
    {
      "cell_type": "markdown",
      "metadata": {
        "id": "view-in-github",
        "colab_type": "text"
      },
      "source": [
        "<a href=\"https://colab.research.google.com/github/istiakmahmudnewaz/Pythonprogramming_GUB_EDGE_PROJECT/blob/main/Class_1.ipynb\" target=\"_parent\"><img src=\"https://colab.research.google.com/assets/colab-badge.svg\" alt=\"Open In Colab\"/></a>"
      ]
    },
    {
      "cell_type": "code",
      "execution_count": null,
      "metadata": {
        "id": "dS9NP5M9SIhZ"
      },
      "outputs": [],
      "source": [
        "# prompt: create python code 4 complex number\n",
        "\n",
        "class Complex:\n",
        "    def __init__(self, real, imag):\n",
        "        self.real = real\n",
        "        self.imag = imag\n",
        "\n",
        "    def __add__(self, other):\n",
        "        return Complex(self.real + other.real, self.imag + other.imag)\n",
        "\n",
        "    def __sub__(self, other):\n",
        "        return Complex(self.real - other.real, self.imag - other.imag)\n",
        "\n",
        "    def __mul__(self, other):\n",
        "        real = self.real * other.real - self.imag * other.imag\n",
        "        imag = self.real * other.imag + self.imag * other.real\n",
        "        return Complex(real, imag)\n",
        "\n",
        "    def __truediv__(self, other):\n",
        "        denominator = other.real**2 + other.imag**2\n",
        "        real = (self.real * other.real + self.imag * other.imag) / denominator\n",
        "        imag = (self.imag * other.real - self.real * other.imag) / denominator\n",
        "        return Complex(real, imag)\n",
        "\n",
        "    def __str__(self):\n",
        "        if self.imag >= 0:\n",
        "            return \"{}+{}i\".format(self.real, self.imag)\n",
        "        else:\n",
        "            return \"{}{}i\".format(self.real, self.imag)\n",
        "\n",
        "\n",
        "# Example usage\n",
        "c1 = Complex(2, 3)\n",
        "c2 = Complex(1, -1)\n",
        "\n",
        "print(\"c1:\", c1)\n",
        "print(\"c2:\", c2)\n",
        "\n",
        "print(\"c1 + c2:\", c1 + c2)\n",
        "print(\"c1 - c2:\", c1 - c2)\n",
        "print(\"c1 * c2:\", c1 * c2)\n",
        "print(\"c1 / c2:\", c1 / c2)\n"
      ]
    }
  ]
}